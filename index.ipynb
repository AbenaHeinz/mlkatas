{
 "cells": [
  {
   "cell_type": "markdown",
   "metadata": {},
   "source": [
    "<!--NAVIGATION-->\n",
    "\n",
    "<a href=\"https://colab.research.google.com/github/bpesquet/machine-learning-katas/blob/master/index.ipynb\"><img align=\"left\" src=\"https://colab.research.google.com/assets/colab-badge.svg\" alt=\"Open in Colab\" title=\"Open in Google Colaboratory\"></a>\n"
   ]
  },
  {
   "cell_type": "markdown",
   "metadata": {},
   "source": [
    "# Machine Learning Katas\n",
    "\n",
    "A series of self-correcting exercises for practicing your ML and Deep Learning skills."
   ]
  },
  {
   "cell_type": "markdown",
   "metadata": {},
   "source": [
    "## Table of Contents\n",
    "\n",
    "### Working with Data\n",
    "\n",
    "  - [Tensor Management](data/Tensor_Management.ipynb)\n",
    "\n",
    "### Training a Model on Toy Datasets\n",
    "\n",
    "  - [Fashion-MNIST Dataset](toy-datasets/Fashion_MNIST.ipynb)\n",
    "  - [Iris Dataset](toy-datasets/Iris.ipynb)\n",
    "  - [Breast Cancer Dataset](toy-datasets/Breast_Cancer.ipynb)\n",
    "    \n",
    "(More to come)"
   ]
  },
  {
   "cell_type": "code",
   "execution_count": null,
   "metadata": {},
   "outputs": [],
   "source": []
  }
 ],
 "metadata": {
  "kernelspec": {
   "display_name": "Python 3",
   "language": "python",
   "name": "python3"
  },
  "language_info": {
   "codemirror_mode": {
    "name": "ipython",
    "version": 3
   },
   "file_extension": ".py",
   "mimetype": "text/x-python",
   "name": "python",
   "nbconvert_exporter": "python",
   "pygments_lexer": "ipython3",
   "version": "3.6.4"
  }
 },
 "nbformat": 4,
 "nbformat_minor": 2
}
