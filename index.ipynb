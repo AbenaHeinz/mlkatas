{
 "cells": [
  {
   "cell_type": "markdown",
   "metadata": {},
   "source": [
    "<!--NAVIGATION-->\n",
    "\n",
    "<a href=\"https://colab.research.google.com/github/bpesquet/machine-learning-katas/blob/master/index.ipynb\"><img align=\"left\" src=\"https://colab.research.google.com/assets/colab-badge.svg\" alt=\"Open in Colab\" title=\"Open in Google Colaboratory\"></a>\n"
   ]
  },
  {
   "cell_type": "markdown",
   "metadata": {},
   "source": [
    "# Machine Learning Katas\n",
    "\n",
    "A series of self-correcting exercises for practicing your ML and Deep Learning skills."
   ]
  },
  {
   "cell_type": "markdown",
   "metadata": {},
   "source": [
    "## Table of Contents\n",
    "\n",
    "### Index by exercise type\n",
    "\n",
    "|Working with Data|Training on Classic Datasets|\n",
    "|-|-|\n",
    "|[Tensor Management](data/Tensor_Management.ipynb)|[Fashion- MNIST](classic-datasets/Fashion_MNIST.ipynb)\n",
    "||[Iris](classic-datasets/Iris.ipynb)|\n",
    "||[Breast Cancer](classic-datasets/Breast_Cancer.ipynb)|||\n",
    "||[Boston Housing](classic-datasets/Boston_Housing.ipynb)|||\n",
    "||[Reuters News](classic-datasets/Reuters_News.ipynb)|||\n",
    "||[CIFAR10](classic-datasets/CIFAR10.ipynb)|||\n",
    "\n",
    "### Index by dataset type\n",
    "\n",
    "|Numerical Data|Images|Text|\n",
    "|-|-|-|\n",
    "|[Iris](classic-datasets/Iris.ipynb)|[Fashion-MNIST]((classic-datasets/Fashion_MNIST.ipynb))|[Reuters News](classic-datasets/Reuters_News.ipynb)|\n",
    "|[Breast Cancer](classic-datasets/Breast_Cancer.ipynb)|[CIFAR10](classic-datasets/CIFAR10.ipynb)||\n",
    "|[Boston Housing](classic-datasets/Boston_Housing.ipynb)|||\n",
    "  \n",
    "(More to come)"
   ]
  },
  {
   "cell_type": "code",
   "execution_count": null,
   "metadata": {},
   "outputs": [],
   "source": []
  }
 ],
 "metadata": {
  "kernelspec": {
   "display_name": "Python 3",
   "language": "python",
   "name": "python3"
  },
  "language_info": {
   "codemirror_mode": {
    "name": "ipython",
    "version": 3
   },
   "file_extension": ".py",
   "mimetype": "text/x-python",
   "name": "python",
   "nbconvert_exporter": "python",
   "pygments_lexer": "ipython3",
   "version": "3.6.4"
  }
 },
 "nbformat": 4,
 "nbformat_minor": 2
}
