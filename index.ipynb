{
 "cells": [
  {
   "cell_type": "markdown",
   "metadata": {},
   "source": [
    "# Deep Learning Workshop\n",
    "\n",
    "A hands-on introduction to Deep Learning with self-correcting exercises."
   ]
  },
  {
   "cell_type": "markdown",
   "metadata": {},
   "source": [
    "## Table of contents\n",
    "\n",
    "### [1. Tensors](01.00.Tensors.ipynb)\n",
    "\n",
    "### [2. Shallow neural networks](02.00.Shallow-Neural-Networks.ipynb)\n",
    "\n",
    "  * [Exercise: input management](02.01.Input-Management.ipynb)\n",
    "  * [Exercise: Iris dataset](02.02.Iris.ipynb)\n",
    "  * [Exercise: Fashion-MNIST dataset](02.03.Fashion-MNIST.ipynb)\n",
    "  * [Exercise: recognizing cats](02.04.Cats.ipynb)\n",
    "\n",
    "\n",
    "  * [Appendix: a neural network class from scratch](02.A1.Neural-Network-Class-From-Scratch.ipynb)\n",
    "  \n",
    "### [3. Optimization and tuning](03.00.Optimization-And-Tuning.ipynb)\n",
    "  * [Exercise: Breast Cancer dataset](03.01.Breast-Cancer.ipynb)\n",
    "  * [Exercise: Reuters dataset](03.02.Reuters.ipynb)\n",
    "  * [Exercise: Boston Housing dataset](03.03.Boston-Housing.ipynb)\n",
    "  * [Exercise: CIFAR10 dataset](03.04.CIFAR10.ipynb)\n",
    "  \n",
    "(More to come)"
   ]
  },
  {
   "cell_type": "code",
   "execution_count": null,
   "metadata": {
    "collapsed": true
   },
   "outputs": [],
   "source": []
  }
 ],
 "metadata": {
  "kernelspec": {
   "display_name": "Python 3",
   "language": "python",
   "name": "python3"
  },
  "language_info": {
   "codemirror_mode": {
    "name": "ipython",
    "version": 3
   },
   "file_extension": ".py",
   "mimetype": "text/x-python",
   "name": "python",
   "nbconvert_exporter": "python",
   "pygments_lexer": "ipython3",
   "version": "3.6.3"
  }
 },
 "nbformat": 4,
 "nbformat_minor": 2
}
